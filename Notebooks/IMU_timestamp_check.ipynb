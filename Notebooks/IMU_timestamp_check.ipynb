{
 "cells": [
  {
   "cell_type": "markdown",
   "id": "0",
   "metadata": {},
   "source": [
    "# IMU_timestamp_check\n",
    "\n",
    "This notebook checks the consistency of the timestamps injected on the trigger pin.\n",
    "\n",
    "The trigger pin frequency is at 100 Hz from a decimated 20 ppm clock. We should be able to see this clock by checking the timestamps"
   ]
  },
  {
   "cell_type": "code",
   "execution_count": null,
   "id": "1",
   "metadata": {},
   "outputs": [],
   "source": [
    "import sys\n",
    "from mcap.reader import make_reader\n",
    "from mcap_ros2.decoder import DecoderFactory\n",
    "import numpy as np\n",
    "import matplotlib.pyplot as plt"
   ]
  },
  {
   "cell_type": "code",
   "execution_count": null,
   "id": "2",
   "metadata": {},
   "outputs": [],
   "source": [
    "# Bag path\n",
    "BAG=\"/data/high_altitude_test/vnav/rosbag2_2024_08_05-22_11_09/rosbag2_2024_08_05-22_11_09_0.mcap\"\n",
    "\n",
    "# timesyncin_arr = np.zeros(\n",
    "with open(BAG, \"rb\") as f:\n",
    "    reader = make_reader(f, decoder_factories=[DecoderFactory()])\n",
    "\n",
    "    # print(reader.get_summary().statistics)\n",
    "    num_msgs = reader.get_summary().statistics.channel_message_counts[1]\n",
    "    arr_syncincnt = np.zeros(num_msgs)\n",
    "    arr_timesyncin = np.zeros(num_msgs) #ns\n",
    "    arr_timestartup = np.zeros(num_msgs)\n",
    "    arr_timegps = np.zeros(num_msgs)\n",
    "    arr_timegpspps = np.zeros(num_msgs)\n",
    "\n",
    "    for i, (schema, channel, message, ros_msg) in enumerate(reader.iter_decoded_messages()):\n",
    "        if i == 0:\n",
    "            print(f\"{channel.topic} {schema.name} [{message.log_time}]: {ros_msg}\")\n",
    "        msg=ros_msg\n",
    "        arr_syncincnt[i] = msg.syncincnt\n",
    "        arr_timesyncin[i] = msg.timesyncin\n",
    "        arr_timestartup[i] = msg.timestartup\n",
    "        arr_timegps[i] = msg.timegps\n",
    "        arr_timegpspps[i] = msg.timegpspps\n",
    "        if (i % 1000 == 0):\n",
    "            print(f\"{i} - {i/num_msgs}\")\n",
    "    arr_timesyncin /= 1e3 #us"
   ]
  },
  {
   "cell_type": "code",
   "execution_count": null,
   "id": "3",
   "metadata": {},
   "outputs": [],
   "source": [
    "# General plot of the syncincounter\n",
    "plt.figure()\n",
    "plt.plot(arr_timesyncin/5e3)\n",
    "plt.plot(arr_syncincnt)\n",
    "plt.show()"
   ]
  },
  {
   "cell_type": "code",
   "execution_count": null,
   "id": "4",
   "metadata": {},
   "outputs": [],
   "source": [
    "# Let's split the three moments where we send triggers, and the last continuous trigger\n",
    "fig, ax = plt.subplots(nrows=3, ncols=1)\n",
    "\n",
    "for i in range(3):\n",
    "    int_s = np.where(arr_syncincnt==(1+300*i))[0][0]\n",
    "    int_e = np.where(arr_syncincnt==(300*(i+1)))[0][3]\n",
    "    print(f\"{i} - s: {int_s} - e: {int_e} - diff: {int_e - int_s +1}\")\n",
    "    first_int = arr_timesyncin[int_s:int_e+1]\n",
    "    first_d = first_int[::4]\n",
    "    x_ax = np.arange(0, 300, 1)\n",
    "    ax[i].plot(x_ax, first_d)\n",
    "    m, b = np.polyfit(x_ax, first_d, 1)\n",
    "    print(f\"first int: {first_d[0]} - last int: {first_d[-1]}, drift: {m*300/3e6*1e6} ppm\")\n",
    "plt.show()\n",
    "    # print((first_d))\n",
    "\n",
    "#plt.figure()\n",
    "#plt.plot()\n",
    "# plt.plot(arr_syncincnt[idx])\n",
    "#plt.show()\n",
    "\n",
    "print(len(arr_timesyncin[t0_s:t0_e]))\n",
    "\n",
    "# splits = timesyncin_p > 10\n",
    "#print(timesyncin_p[101]/1e9)\n",
    "\n",
    "print(idx1)\n"
   ]
  },
  {
   "cell_type": "code",
   "execution_count": null,
   "id": "5",
   "metadata": {},
   "outputs": [],
   "source": [
    "(1199 - 1166)/3e6 * 1e6\n"
   ]
  }
 ],
 "metadata": {
  "kernelspec": {
   "display_name": "Python 3 (ipykernel)",
   "language": "python",
   "name": "python3"
  },
  "language_info": {
   "codemirror_mode": {
    "name": "ipython",
    "version": 3
   },
   "file_extension": ".py",
   "mimetype": "text/x-python",
   "name": "python",
   "nbconvert_exporter": "python",
   "pygments_lexer": "ipython3",
   "version": "3.12.4"
  }
 },
 "nbformat": 4,
 "nbformat_minor": 5
}
